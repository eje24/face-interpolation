{
 "cells": [
  {
   "cell_type": "markdown",
   "metadata": {},
   "source": [
    "Implements DCGAN, source: https://arxiv.org/pdf/1511.06434.pdf\n",
    "\n",
    "Notes:\n",
    "- for faces: CelebA"
   ]
  },
  {
   "cell_type": "code",
   "execution_count": null,
   "metadata": {},
   "outputs": [],
   "source": [
    "import torch\n",
    "import torch.nn as nn\n",
    "import numpy as np\n",
    "import os\n",
    "\n",
    "from matplotlib import pyplot as plt\n",
    "from constants import REPO_DIR\n",
    "from utils import get_saved_model, load_model"
   ]
  },
  {
   "cell_type": "code",
   "execution_count": null,
   "metadata": {},
   "outputs": [],
   "source": [
    "class Generator(nn.Module):\n",
    "    def __init__(self, latent_dims):\n",
    "        super().__init__()\n",
    "        self.latent_dims = latent_dims\n",
    "        self.decoder = nn.Sequential(\n",
    "            nn.Linear(self.latent_dims, 128),\n",
    "            nn.ReLU(True),\n",
    "            nn.Linear(128, 3 * 3 * 32),\n",
    "            nn.ReLU(True),\n",
    "            nn.Unflatten(dim=1, \n",
    "            unflattened_size=(32, 3, 3)),\n",
    "            nn.ConvTranspose2d(32, 16, 3, \n",
    "            stride=2, output_padding=0),\n",
    "            nn.BatchNorm2d(16),\n",
    "            nn.ReLU(True),\n",
    "            nn.ConvTranspose2d(16, 8, 3, stride=2, \n",
    "            padding=1, output_padding=1),\n",
    "            nn.BatchNorm2d(8),\n",
    "            nn.ReLU(True),\n",
    "            nn.ConvTranspose2d(8, 1, 3, stride=2, \n",
    "            padding=1, output_padding=1)\n",
    "        )\n",
    "    \n",
    "    def forward(self, x):\n",
    "        return self.decoder(x)\n",
    "\n",
    "class Discriminator(nn.Module):\n",
    "    def __init__(self):\n",
    "        super().__init__()\n",
    "        self.discriminator = nn.Sequential(\n",
    "        nn.Conv2d(1, 8, 3, stride=2, padding=1),\n",
    "        nn.ReLU(True),\n",
    "        nn.Conv2d(8, 16, 3, stride=2, padding=1),\n",
    "        nn.BatchNorm2d(16),\n",
    "        nn.ReLU(True),\n",
    "        nn.Conv2d(16, 32, 3, stride=2, padding=0),\n",
    "        nn.ReLU(True),\n",
    "        nn.Flatten(start_dim=1),\n",
    "        nn.Linear(3 * 3 * 32, 128),\n",
    "        nn.ReLU(True),\n",
    "        nn.Linear(128, 16),\n",
    "        nn.ReLU(True),\n",
    "        nn.Linear(16, 1),\n",
    "        nn.Sigmoid()\n",
    "    )\n",
    "\n",
    "    def forward(self, x):\n",
    "        return self.discriminator(x)"
   ]
  },
  {
   "cell_type": "code",
   "execution_count": null,
   "metadata": {},
   "outputs": [],
   "source": [
    "from utils import mnist_training_set\n",
    "\n",
    "def retrain_model():\n",
    "    \"\"\"\n",
    "    @returns: retrains new model\n",
    "    \"\"\"\n",
    "    num_epochs = 5\n",
    "    batch_size = 16\n",
    "    real_label = 1\n",
    "    fake_label = 0\n",
    "    fake_latent_dims = 16\n",
    "    dataloader = torch.utils.data.DataLoader(mnist_training_set, batch_size=batch_size, shuffle=True)\n",
    "    loss_fn = nn.BCELoss()\n",
    "    distribution = torch.distributions.Normal(0.5, 0.3)\n",
    "\n",
    "    generator = Generator(fake_latent_dims).cpu()\n",
    "    discriminator = Discriminator().cpu()\n",
    "    generator_optimizer = torch.optim.Adam(generator.parameters(),weight_decay=1e-5)\n",
    "    discriminator_optimizer = torch.optim.Adam(discriminator.parameters(),weight_decay=1e-5)\n",
    "\n",
    "    for epoch in range(num_epochs):\n",
    "        discriminator_epoch_loss = 0\n",
    "        generator_epoch_loss = 0\n",
    "        for data in dataloader:\n",
    "            #discriminator\n",
    "            discriminator_optimizer.zero_grad()\n",
    "            #loss on real data\n",
    "            real_input, _ = data\n",
    "            real_input = real_input.reshape(batch_size, 1, 28, 28)\n",
    "            real_output = discriminator(real_input).view(-1)\n",
    "            real_labels = torch.full_like(real_output, real_label)\n",
    "            real_loss = loss_fn(real_output, real_labels)\n",
    "            #loss on fake (generated) data\n",
    "            fake_latent_input = distribution.sample((batch_size,fake_latent_dims)).clamp(0,1)\n",
    "            # pass through generator and remove gradient so backprop only passes through discriminator\n",
    "            fake_input = generator(fake_latent_input).detach() \n",
    "            fake_output = discriminator(fake_input).view(-1)\n",
    "            fake_labels = torch.full_like(fake_output, fake_label)\n",
    "            fake_loss = loss_fn(fake_output, fake_labels)\n",
    "            #total loss\n",
    "            discriminator_loss = real_loss + fake_loss\n",
    "            discriminator_epoch_loss += discriminator_loss.item()\n",
    "            discriminator_loss.backward()\n",
    "            discriminator_optimizer.step()\n",
    "\n",
    "            #generator\n",
    "            generator_optimizer.zero_grad()\n",
    "            fake_latent_input = distribution.sample((batch_size, fake_latent_dims)).clamp(0,1)\n",
    "            fake_output = discriminator(generator(fake_latent_input)).view(-1)\n",
    "            real_labels = torch.full_like(fake_output, real_label)\n",
    "            generator_loss = loss_fn(fake_output, real_labels)\n",
    "            generator_epoch_loss += generator_loss.item()\n",
    "            generator_loss.backward()\n",
    "            generator_optimizer.step()\n",
    "        print(f'epoch [{epoch+1}/{num_epochs}], generator_loss:{generator_epoch_loss}, discriminator loss:{discriminator_epoch_loss}')\n",
    "    return generator.eval(), discriminator.eval()\n",
    "    "
   ]
  },
  {
   "cell_type": "code",
   "execution_count": null,
   "metadata": {},
   "outputs": [],
   "source": [
    "generator, discriminator = retrain_model()"
   ]
  },
  {
   "cell_type": "code",
   "execution_count": null,
   "metadata": {},
   "outputs": [],
   "source": [
    "save_gan(discriminator, generator)"
   ]
  },
  {
   "cell_type": "code",
   "execution_count": null,
   "metadata": {},
   "outputs": [],
   "source": [
    "GAN_DISCRIMINATOR_MNIST_WEIGHT_PATH = os.path.join(REPO_DIR, 'architectures', 'weights', 'gan_discriminator_mnist_state_dict.pt')\n",
    "GAN_GENERATOR_MNIST_WEIGHT_PATH = os.path.join(REPO_DIR, 'architectures', 'weights', 'gan_generator_mnist_state_dict.pt')\n",
    "\n",
    "def save_gan(discriminator, generator, discriminator_weight_path=GAN_DISCRIMINATOR_MNIST_WEIGHT_PATH, generator_weight_path = GAN_GENERATOR_MNIST_WEIGHT_PATH):\n",
    "    \"\"\"\n",
    "    todo\n",
    "    \"\"\"\n",
    "    if not os.path.isfile(discriminator_weight_path):\n",
    "        os.makedirs(os.path.dirname(discriminator_weight_path), exist_ok = True)\n",
    "    if not os.path.isfile(generator_weight_path):\n",
    "        os.makedirs(os.path.dirname(generator_weight_path), exist_ok = True)\n",
    "    torch.save(discriminator.state_dict(), discriminator_weight_path)\n",
    "    torch.save(generator.state_dict(), generator_weight_path)\n",
    "\n",
    "\n",
    "def load_saved_gan(discriminator_weight_path=GAN_DISCRIMINATOR_MNIST_WEIGHT_PATH, generator_weight_path = GAN_GENERATOR_MNIST_WEIGHT_PATH):\n",
    "    \"\"\"\n",
    "    todo\n",
    "    @returns: discriminator, generator\n",
    "    \"\"\"\n",
    "    return get_saved_model(Discriminator, discriminator_weight_path), get_saved_model(Generator, generator_weight_path)"
   ]
  },
  {
   "cell_type": "code",
   "execution_count": null,
   "metadata": {},
   "outputs": [],
   "source": [
    "import torchvision.utils as vutils\n",
    "\n",
    "def show_examples(generator, num_examples = 20):\n",
    "    distribution = torch.distributions.Normal(0.5, 0.3)\n",
    "    latent_input = distribution.sample((num_examples, 16)).clamp(0,1)\n",
    "    generated_images = generator(latent_input).detach()\n",
    "    plt.imshow(np.transpose(vutils.make_grid(generated_images, padding=2, normalize=True).cpu(),(1,2,0)))"
   ]
  },
  {
   "cell_type": "code",
   "execution_count": null,
   "metadata": {},
   "outputs": [],
   "source": [
    "show_examples(generator)"
   ]
  }
 ],
 "metadata": {
  "interpreter": {
   "hash": "aa50d98202e836e57a8cfa0defb25a13d588a147734f328b89b2b92a7b90c31b"
  },
  "kernelspec": {
   "display_name": "Python 3.9.12",
   "language": "python",
   "name": "python3"
  },
  "language_info": {
   "codemirror_mode": {
    "name": "ipython",
    "version": 3
   },
   "file_extension": ".py",
   "mimetype": "text/x-python",
   "name": "python",
   "nbconvert_exporter": "python",
   "pygments_lexer": "ipython3",
   "version": "3.9.12"
  },
  "orig_nbformat": 4
 },
 "nbformat": 4,
 "nbformat_minor": 2
}
