{
 "cells": [
  {
   "cell_type": "code",
   "execution_count": null,
   "metadata": {},
   "outputs": [],
   "source": [
    "import torch\n",
    "import torch.nn as nn\n",
    "import numpy as np\n",
    "import os\n",
    "\n",
    "from matplotlib import pyplot as plt\n",
    "from constants import REPO_DIR\n",
    "from utils import get_saved_model, NormalizeImage"
   ]
  },
  {
   "cell_type": "code",
   "execution_count": null,
   "metadata": {},
   "outputs": [],
   "source": [
    "class ReparameterizationAndLossBlock(nn.Module):\n",
    "  \"\"\"\n",
    "  Implemented this way so that the VAE encoder can output the latent sampled z\n",
    "  while simultaneously computing KL divergence for downstream use and making this\n",
    "  divergence available to the VAE (parent) module.\n",
    "  This allows the VAE to conform to the generic x -> encoder -> z -> decoder -> x'\n",
    "  expected by the util functions\n",
    "  \"\"\"\n",
    "  def __init__(self, parent):\n",
    "    super().__init__()\n",
    "    #note, we cannot set self.parent = parent - this will result in an infinite recursion error\n",
    "    #instead, we pass in a lambda allowing this block to update the kl_divergence attribute of its parent\n",
    "    self.update_kl_divergence = lambda kl_divergence: parent.update_kl_divergence(kl_divergence)\n",
    "    self.pre_latent_dim = parent.pre_latent_dim\n",
    "    self.latent_dim = parent.latent_dim\n",
    "    self.latent_to_mu = nn.Linear(self.pre_latent_dim, self.latent_dim)\n",
    "    self.latent_to_logvar = nn.Linear(self.pre_latent_dim, self.latent_dim)\n",
    "    self.normal = torch.distributions.Normal(0, 1)\n",
    "\n",
    "  def forward(self, x):\n",
    "    mu = self.latent_to_mu(x)\n",
    "    logvar = self.latent_to_logvar(x)\n",
    "    z = mu + torch.exp(logvar / 2) * self.normal.sample((self.latent_dim,))\n",
    "    kl_divergence = 0.5*torch.sum(torch.exp(logvar) + torch.pow(mu, 2) - 1 - logvar)\n",
    "    self.update_kl_divergence(kl_divergence)\n",
    "    return z\n",
    "\n",
    "class VariationalAutoEncoder(nn.Module):\n",
    "\n",
    "  def __init__(self):\n",
    "    super().__init__()\n",
    "    self.pre_latent_dim = 128\n",
    "    self.latent_dim = 16\n",
    "\n",
    "    self.encoder = nn.Sequential(\n",
    "        nn.Conv2d(1, 8, 3, stride=2, padding=1),\n",
    "        nn.ReLU(True),\n",
    "        nn.Conv2d(8, 16, 3, stride=2, padding=1),\n",
    "        nn.BatchNorm2d(16),\n",
    "        nn.ReLU(True),\n",
    "        nn.Conv2d(16, 32, 3, stride=2, padding=0),\n",
    "        nn.ReLU(True),\n",
    "        nn.Flatten(start_dim=1),\n",
    "        nn.Linear(3 * 3 * 32, self.pre_latent_dim),\n",
    "        nn.ReLU(True),\n",
    "        ReparameterizationAndLossBlock(self)\n",
    "    )\n",
    "\n",
    "    self.decoder = nn.Sequential(\n",
    "        nn.Linear(self.latent_dim, self.pre_latent_dim),\n",
    "        nn.ReLU(True),\n",
    "        nn.Linear(self.pre_latent_dim, 3 * 3 * 32),\n",
    "        nn.ReLU(True),\n",
    "        nn.Unflatten(dim=1, \n",
    "        unflattened_size=(32, 3, 3)),\n",
    "        nn.ConvTranspose2d(32, 16, 3, \n",
    "        stride=2, output_padding=0),\n",
    "        nn.BatchNorm2d(16),\n",
    "        nn.ReLU(True),\n",
    "        nn.ConvTranspose2d(16, 8, 3, stride=2, \n",
    "        padding=1, output_padding=1),\n",
    "        nn.BatchNorm2d(8),\n",
    "        nn.ReLU(True),\n",
    "        nn.ConvTranspose2d(8, 1, 3, stride=2, \n",
    "        padding=1, output_padding=1)\n",
    "    )\n",
    "  \n",
    "  def update_kl_divergence(self, kl_divergence):\n",
    "    self.kl_divergence = kl_divergence\n",
    "\n",
    "  def forward(self, x):\n",
    "    \"\"\"\n",
    "    @returns: reconstructed input, latent dist. mean, latent dist. variance (for downstream KL computation)\n",
    "    \"\"\"\n",
    "    z = self.encoder(x)\n",
    "    x = self.decoder(z)\n",
    "    return torch.sigmoid(x)"
   ]
  },
  {
   "cell_type": "code",
   "execution_count": null,
   "metadata": {},
   "outputs": [],
   "source": [
    "from utils import mnist_training_set\n",
    "\n",
    "def retrain_model():\n",
    "    \"\"\"\n",
    "    @returns: retrains new model\n",
    "    \"\"\"\n",
    "    dataloader = torch.utils.data.DataLoader(mnist_training_set, batch_size=32, shuffle=False)\n",
    "    num_epochs = 5\n",
    "    batch_size = 32\n",
    "    model = VariationalAutoEncoder().cpu()\n",
    "    optimizer = torch.optim.Adam(model.parameters(),weight_decay=1e-5)\n",
    "    for epoch in range(num_epochs):\n",
    "        for data in dataloader:\n",
    "            #note, img from dataloader has dimensions 32x28x28 (batch size is 32)\n",
    "            #Conv2d input shape is 32x1x28x28 (batch_size x num_channels x width x height)\n",
    "            img, _ = data\n",
    "            img = img.reshape(batch_size, -1, 28, 28)\n",
    "            img = torch.autograd.Variable(img).cpu()\n",
    "            # ===================forward=====================\n",
    "            output = model(img)\n",
    "            loss = model.kl_divergence + nn.functional.binary_cross_entropy(output, img, reduction='sum')\n",
    "            # ===================backward====================\n",
    "            optimizer.zero_grad()\n",
    "            loss.backward()\n",
    "            optimizer.step()\n",
    "        print('epoch [{}/{}], loss:{:.4f}'.format(epoch+1, num_epochs, loss.item()))\n",
    "    return model.eval()\n",
    "    "
   ]
  },
  {
   "cell_type": "code",
   "execution_count": null,
   "metadata": {},
   "outputs": [],
   "source": [
    "VAE_MNIST_WEIGHT_PATH = os.path.join(REPO_DIR, 'architectures', 'weights', 'vae_state_dict.pt')\n",
    "\n",
    "def save_model(model, weight_path=VAE_MNIST_WEIGHT_PATH):\n",
    "    \"\"\"\n",
    "    @param model: model to save\n",
    "    @param weight_path: path to save weights to\n",
    "    \"\"\"\n",
    "    if not os.path.isfile(weight_path):\n",
    "        os.makedirs(os.path.dirname(weight_path), exist_ok = True)\n",
    "    torch.save(model.state_dict(), weight_path)\n",
    "\n",
    "\n",
    "def load_saved_model(weight_path=VAE_MNIST_WEIGHT_PATH):\n",
    "    \"\"\"\n",
    "    @param weight_path: points to path where weights are stored to load model\n",
    "    @returns: Trained model\n",
    "    @throws: Exception if no weights stored at weight_path\n",
    "    \"\"\"\n",
    "    return get_saved_model(VariationalAutoEncoder, weight_path)"
   ]
  },
  {
   "cell_type": "code",
   "execution_count": null,
   "metadata": {},
   "outputs": [],
   "source": [
    "model = retrain_model()"
   ]
  },
  {
   "cell_type": "code",
   "execution_count": null,
   "metadata": {},
   "outputs": [],
   "source": [
    "save_model(model)"
   ]
  },
  {
   "cell_type": "markdown",
   "metadata": {},
   "source": [
    "### Results and Interpolation"
   ]
  },
  {
   "cell_type": "code",
   "execution_count": null,
   "metadata": {},
   "outputs": [],
   "source": [
    "from utils import show_examples\n",
    "\n",
    "#examples of reconstruction\n",
    "show_examples(model, 4)"
   ]
  },
  {
   "cell_type": "code",
   "execution_count": null,
   "metadata": {},
   "outputs": [],
   "source": [
    "from utils import get_img, display_interpolation_by_idx\n",
    "\n",
    "display_interpolation_by_idx(model, 2, 31, 20)"
   ]
  }
 ],
 "metadata": {
  "interpreter": {
   "hash": "aa50d98202e836e57a8cfa0defb25a13d588a147734f328b89b2b92a7b90c31b"
  },
  "kernelspec": {
   "display_name": "Python 3.9.12",
   "language": "python",
   "name": "python3"
  },
  "language_info": {
   "codemirror_mode": {
    "name": "ipython",
    "version": 3
   },
   "file_extension": ".py",
   "mimetype": "text/x-python",
   "name": "python",
   "nbconvert_exporter": "python",
   "pygments_lexer": "ipython3",
   "version": "3.9.12"
  },
  "orig_nbformat": 4
 },
 "nbformat": 4,
 "nbformat_minor": 2
}
